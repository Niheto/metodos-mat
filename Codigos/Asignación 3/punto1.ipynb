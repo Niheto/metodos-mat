{
 "cells": [
  {
   "cell_type": "markdown",
   "metadata": {},
   "source": [
    "# Métodos matemátidos para físicos I"
   ]
  },
  {
   "cell_type": "markdown",
   "metadata": {},
   "source": [
    "## Tensores, autovectores y autovalores"
   ]
  },
  {
   "cell_type": "markdown",
   "metadata": {},
   "source": [
    "Autores:\n",
    "- Nicolás Toledo Parra, 2200017\n",
    "- Gabriela Sánchez Ariza, 22000816"
   ]
  },
  {
   "cell_type": "code",
   "execution_count": 1,
   "metadata": {},
   "outputs": [],
   "source": [
    "import pandas as pd\n",
    "import numpy as np\n",
    "import matplotlib.pyplot as plt"
   ]
  },
  {
   "cell_type": "code",
   "execution_count": 2,
   "metadata": {},
   "outputs": [],
   "source": [
    "datos = pd.read_csv('datosmasas.csv')"
   ]
  },
  {
   "cell_type": "code",
   "execution_count": 3,
   "metadata": {
    "scrolled": false
   },
   "outputs": [
    {
     "data": {
      "text/html": [
       "<div>\n",
       "<style scoped>\n",
       "    .dataframe tbody tr th:only-of-type {\n",
       "        vertical-align: middle;\n",
       "    }\n",
       "\n",
       "    .dataframe tbody tr th {\n",
       "        vertical-align: top;\n",
       "    }\n",
       "\n",
       "    .dataframe thead th {\n",
       "        text-align: right;\n",
       "    }\n",
       "</style>\n",
       "<table border=\"1\" class=\"dataframe\">\n",
       "  <thead>\n",
       "    <tr style=\"text-align: right;\">\n",
       "      <th></th>\n",
       "      <th>particula</th>\n",
       "      <th>masas</th>\n",
       "      <th>x</th>\n",
       "      <th>y</th>\n",
       "      <th>z</th>\n",
       "    </tr>\n",
       "  </thead>\n",
       "  <tbody>\n",
       "    <tr>\n",
       "      <th>0</th>\n",
       "      <td>1</td>\n",
       "      <td>2.0</td>\n",
       "      <td>-53.0</td>\n",
       "      <td>79.0</td>\n",
       "      <td>-91.0</td>\n",
       "    </tr>\n",
       "    <tr>\n",
       "      <th>1</th>\n",
       "      <td>2</td>\n",
       "      <td>2.0</td>\n",
       "      <td>13.0</td>\n",
       "      <td>-142.0</td>\n",
       "      <td>-177.0</td>\n",
       "    </tr>\n",
       "    <tr>\n",
       "      <th>2</th>\n",
       "      <td>3</td>\n",
       "      <td>2.0</td>\n",
       "      <td>-109.0</td>\n",
       "      <td>-103.0</td>\n",
       "      <td>-120.0</td>\n",
       "    </tr>\n",
       "    <tr>\n",
       "      <th>3</th>\n",
       "      <td>4</td>\n",
       "      <td>2.0</td>\n",
       "      <td>4.0</td>\n",
       "      <td>-96.0</td>\n",
       "      <td>110.0</td>\n",
       "    </tr>\n",
       "    <tr>\n",
       "      <th>4</th>\n",
       "      <td>5</td>\n",
       "      <td>4.0</td>\n",
       "      <td>222.0</td>\n",
       "      <td>-22.0</td>\n",
       "      <td>-236.0</td>\n",
       "    </tr>\n",
       "    <tr>\n",
       "      <th>...</th>\n",
       "      <td>...</td>\n",
       "      <td>...</td>\n",
       "      <td>...</td>\n",
       "      <td>...</td>\n",
       "      <td>...</td>\n",
       "    </tr>\n",
       "    <tr>\n",
       "      <th>1528</th>\n",
       "      <td>1529</td>\n",
       "      <td>3.0</td>\n",
       "      <td>1646.0</td>\n",
       "      <td>1612.0</td>\n",
       "      <td>-30.0</td>\n",
       "    </tr>\n",
       "    <tr>\n",
       "      <th>1529</th>\n",
       "      <td>1530</td>\n",
       "      <td>2.0</td>\n",
       "      <td>1610.0</td>\n",
       "      <td>1650.0</td>\n",
       "      <td>-145.0</td>\n",
       "    </tr>\n",
       "    <tr>\n",
       "      <th>1530</th>\n",
       "      <td>1531</td>\n",
       "      <td>5.0</td>\n",
       "      <td>1626.0</td>\n",
       "      <td>1537.0</td>\n",
       "      <td>96.0</td>\n",
       "    </tr>\n",
       "    <tr>\n",
       "      <th>1531</th>\n",
       "      <td>1532</td>\n",
       "      <td>2.0</td>\n",
       "      <td>1390.0</td>\n",
       "      <td>1480.0</td>\n",
       "      <td>160.0</td>\n",
       "    </tr>\n",
       "    <tr>\n",
       "      <th>1532</th>\n",
       "      <td>1533</td>\n",
       "      <td>2.0</td>\n",
       "      <td>1717.0</td>\n",
       "      <td>1464.0</td>\n",
       "      <td>-59.0</td>\n",
       "    </tr>\n",
       "  </tbody>\n",
       "</table>\n",
       "<p>1533 rows × 5 columns</p>\n",
       "</div>"
      ],
      "text/plain": [
       "      particula  masas       x       y      z\n",
       "0             1    2.0   -53.0    79.0  -91.0\n",
       "1             2    2.0    13.0  -142.0 -177.0\n",
       "2             3    2.0  -109.0  -103.0 -120.0\n",
       "3             4    2.0     4.0   -96.0  110.0\n",
       "4             5    4.0   222.0   -22.0 -236.0\n",
       "...         ...    ...     ...     ...    ...\n",
       "1528       1529    3.0  1646.0  1612.0  -30.0\n",
       "1529       1530    2.0  1610.0  1650.0 -145.0\n",
       "1530       1531    5.0  1626.0  1537.0   96.0\n",
       "1531       1532    2.0  1390.0  1480.0  160.0\n",
       "1532       1533    2.0  1717.0  1464.0  -59.0\n",
       "\n",
       "[1533 rows x 5 columns]"
      ]
     },
     "execution_count": 3,
     "metadata": {},
     "output_type": "execute_result"
    }
   ],
   "source": [
    "datos"
   ]
  },
  {
   "cell_type": "markdown",
   "metadata": {},
   "source": [
    "## 1. a) [Caso 2D]"
   ]
  },
  {
   "cell_type": "markdown",
   "metadata": {},
   "source": [
    "#### 1: Masa total del sistema"
   ]
  },
  {
   "cell_type": "code",
   "execution_count": 4,
   "metadata": {},
   "outputs": [
    {
     "name": "stdout",
     "output_type": "stream",
     "text": [
      "particula    1175811.0\n",
      "masas           4627.0\n",
      "x            1260086.0\n",
      "y            1189409.0\n",
      "z              23092.0\n",
      "dtype: float64\n"
     ]
    }
   ],
   "source": [
    "momento0 = datos.sum(axis=0)\n",
    "print(momento0)\n",
    "M = 4627.0"
   ]
  },
  {
   "cell_type": "markdown",
   "metadata": {},
   "source": [
    "#### 2: Centro masa"
   ]
  },
  {
   "cell_type": "code",
   "execution_count": 5,
   "metadata": {},
   "outputs": [],
   "source": [
    "dfmasas = datos['masas']\n",
    "dfx = datos['x']\n",
    "dfy = datos['y']\n",
    "dfz = datos['z']"
   ]
  },
  {
   "cell_type": "code",
   "execution_count": 6,
   "metadata": {
    "scrolled": true
   },
   "outputs": [
    {
     "name": "stdout",
     "output_type": "stream",
     "text": [
      "825.8152150421439 776.9185217203371\n"
     ]
    }
   ],
   "source": [
    "sumax, sumay = 0, 0\n",
    "\n",
    "for i in range(0,1533,1):\n",
    "    m = dfmasas.iloc[i]\n",
    "    x = dfx.iloc[i]\n",
    "    y = dfy.iloc[i]\n",
    "\n",
    "    sumax = m*x + sumax\n",
    "    sumay = m*y + sumay\n",
    "\n",
    "centromasaX = sumax / M\n",
    "centromasaY = sumay / M\n",
    "\n",
    "print(centromasaX, centromasaY)"
   ]
  },
  {
   "cell_type": "markdown",
   "metadata": {},
   "source": [
    "#### 3: Tensor momento de inercia"
   ]
  },
  {
   "cell_type": "code",
   "execution_count": 7,
   "metadata": {
    "scrolled": true
   },
   "outputs": [
    {
     "name": "stdout",
     "output_type": "stream",
     "text": [
      "3756528404.0 3880390098.0 3880390098.0 4114014339.0\n"
     ]
    }
   ],
   "source": [
    "Ixx, Ixy, Iyx, Iyy = 0, 0, 0, 0\n",
    "\n",
    "for i in range(0, 1533, 1):\n",
    "    m = dfmasas.iloc[i]\n",
    "    x = dfx.iloc[i]\n",
    "    y = dfy.iloc[i]\n",
    "        \n",
    "    Ixx = m*(y**2) + Ixx\n",
    "    Ixy = m*(x*y) + Ixy\n",
    "    Iyx = m*(x*y) + Iyx\n",
    "    Iyy = m*(x**2) + Iyy\n",
    "\n",
    "print(Ixx, Ixy, Iyx, Iyy)"
   ]
  },
  {
   "cell_type": "code",
   "execution_count": 8,
   "metadata": {
    "scrolled": true
   },
   "outputs": [
    {
     "name": "stdout",
     "output_type": "stream",
     "text": [
      "[['Ixx' 'Ixy']\n",
      " ['Iyx' 'Iyy']]\n",
      "[['3756528404' '-3880390098']\n",
      " ['-3880390098' '4114014339']]\n"
     ]
    }
   ],
   "source": [
    "TI = np.matrix([['Ixx', 'Ixy'], ['Iyx', 'Iyy']])\n",
    "print(TI)\n",
    "TensorInercia = np.matrix([[np.format_float_positional(Ixx, trim='-'), np.format_float_positional(-Ixy, trim='-')], [np.format_float_positional(-Iyx, trim='-'), np.format_float_positional(Iyy, trim='-')]])\n",
    "print(TensorInercia)\n",
    "TensorInercia = np.matrix([[np.format_float_positional(Ixx, trim='-'), np.format_float_positional(-Ixy, trim='-')], [np.format_float_positional(-Iyx, trim='-'), np.format_float_positional(Iyy, trim='-')]], dtype=float)\n"
   ]
  },
  {
   "cell_type": "code",
   "execution_count": 9,
   "metadata": {
    "scrolled": false
   },
   "outputs": [
    {
     "name": "stdout",
     "output_type": "stream",
     "text": [
      "[5.07667234e+07 7.81977602e+09]\n",
      "[[-0.72319235  0.69064667]\n",
      " [-0.69064667 -0.72319235]]\n"
     ]
    }
   ],
   "source": [
    "eigenvalores, eigenvectores = np.linalg.eig(TensorInercia)\n",
    "print(eigenvalores)\n",
    "print(eigenvectores)"
   ]
  },
  {
   "cell_type": "code",
   "execution_count": 10,
   "metadata": {},
   "outputs": [
    {
     "data": {
      "text/plain": [
       "0.9999999978806116"
      ]
     },
     "execution_count": 10,
     "metadata": {},
     "output_type": "execute_result"
    }
   ],
   "source": [
    "np.dot([-0.72319235, -0.69064667], [-0.72319235, -0.69064667])"
   ]
  },
  {
   "cell_type": "code",
   "execution_count": 11,
   "metadata": {
    "scrolled": true
   },
   "outputs": [
    {
     "data": {
      "text/plain": [
       "matrix([[-0.72319235, -0.69064667],\n",
       "        [ 0.69064667, -0.72319235]])"
      ]
     },
     "execution_count": 11,
     "metadata": {},
     "output_type": "execute_result"
    }
   ],
   "source": [
    "eigenvectores_inv = np.linalg.inv(eigenvectores)\n",
    "eigenvectores_inv"
   ]
  },
  {
   "cell_type": "code",
   "execution_count": 12,
   "metadata": {},
   "outputs": [
    {
     "data": {
      "text/plain": [
       "matrix([[5.07667234e+07, 0.00000000e+00],\n",
       "        [3.12924385e-07, 7.81977602e+09]])"
      ]
     },
     "execution_count": 12,
     "metadata": {},
     "output_type": "execute_result"
    }
   ],
   "source": [
    "diagonalmatrix = np.matmul(eigenvectores_inv, (np.matmul(TensorInercia, eigenvectores)))\n",
    "diagonalmatrix"
   ]
  },
  {
   "cell_type": "code",
   "execution_count": 13,
   "metadata": {},
   "outputs": [
    {
     "data": {
      "text/plain": [
       "matrix([[ 3.75652840e+09, -3.88039010e+09],\n",
       "        [-3.88039010e+09,  4.11401434e+09]])"
      ]
     },
     "execution_count": 13,
     "metadata": {},
     "output_type": "execute_result"
    }
   ],
   "source": [
    "np.matmul(eigenvectores, (np.matmul(diagonalmatrix, eigenvectores_inv)))"
   ]
  },
  {
   "cell_type": "markdown",
   "metadata": {},
   "source": [
    "## b) [Caso 3D]"
   ]
  },
  {
   "cell_type": "markdown",
   "metadata": {},
   "source": [
    "#### 1: Masa total del sistema"
   ]
  },
  {
   "cell_type": "code",
   "execution_count": 14,
   "metadata": {},
   "outputs": [
    {
     "name": "stdout",
     "output_type": "stream",
     "text": [
      "particula    1175811.0\n",
      "masas           4627.0\n",
      "x            1260086.0\n",
      "y            1189409.0\n",
      "z              23092.0\n",
      "dtype: float64\n"
     ]
    }
   ],
   "source": [
    "momento0 = datos.sum(axis=0)\n",
    "print(momento0)\n",
    "M = 4627.0"
   ]
  },
  {
   "cell_type": "markdown",
   "metadata": {},
   "source": [
    "#### 2: Centro masa"
   ]
  },
  {
   "cell_type": "code",
   "execution_count": 15,
   "metadata": {},
   "outputs": [
    {
     "name": "stdout",
     "output_type": "stream",
     "text": [
      "825.8152150421439 776.9185217203371 15.503349902744759\n"
     ]
    }
   ],
   "source": [
    "sumax, sumay, sumaz = 0, 0, 0\n",
    "\n",
    "for i in range(0,1533,1):\n",
    "    m = dfmasas.iloc[i]\n",
    "    x = dfx.iloc[i]\n",
    "    y = dfy.iloc[i]\n",
    "    z = dfz.iloc[i]\n",
    "\n",
    "\n",
    "    sumax = m*x + sumax\n",
    "    sumay = m*y + sumay\n",
    "    sumaz = m*z + sumaz\n",
    "\n",
    "centromasaX = sumax / M\n",
    "centromasaY = sumay / M\n",
    "centromasaZ = sumaz / M\n",
    "\n",
    "print(centromasaX, centromasaY, centromasaZ)"
   ]
  },
  {
   "cell_type": "markdown",
   "metadata": {},
   "source": [
    "#### 3: Tensor de inercia"
   ]
  },
  {
   "cell_type": "code",
   "execution_count": 16,
   "metadata": {},
   "outputs": [
    {
     "name": "stdout",
     "output_type": "stream",
     "text": [
      "3859483842.0 3880390098.0 52096980.0 3880390098.0 4216969777.0 53801876.0 52096980.0 53801876.0 7870542743.0\n"
     ]
    }
   ],
   "source": [
    "Ixx, Ixy, Ixz, Iyx, Iyy, Iyz, Izx, Izy, Izz = 0, 0, 0, 0, 0, 0, 0, 0, 0\n",
    "\n",
    "for i in range(0, 1533, 1):\n",
    "    m = dfmasas.iloc[i]\n",
    "    x = dfx.iloc[i]\n",
    "    y = dfy.iloc[i]\n",
    "    z = dfz.iloc[i]\n",
    "        \n",
    "    Ixx = m*(y**2 + z**2) + Ixx\n",
    "    Ixy = m*(x*y) + Ixy\n",
    "    Ixz = m*(x*z) + Ixz\n",
    "    Iyx = m*(x*y) + Iyx\n",
    "    Iyy = m*(x**2 + z**2) + Iyy\n",
    "    Iyz = m*(y*z) + Iyz\n",
    "    Izx = m*(x*z) + Izx\n",
    "    Izy = m*(y*z) + Izy\n",
    "    Izz = m*(x**2 + y**2) + Izz\n",
    "    \n",
    "\n",
    "print(Ixx, Ixy, Ixz, Iyx, Iyy, Iyz, Izx, Izy, Izz)"
   ]
  },
  {
   "cell_type": "code",
   "execution_count": 17,
   "metadata": {},
   "outputs": [
    {
     "name": "stdout",
     "output_type": "stream",
     "text": [
      "[['Ixx' 'Ixy' 'Ixz']\n",
      " ['Iyx' 'Iyy' 'Iyz']\n",
      " ['Izx' 'Izy' 'Izz']]\n",
      "[['3859483842' '-3880390098' '-52096980']\n",
      " ['-3880390098' '4216969777' '-53801876']\n",
      " ['-52096980' '-53801876' '7870542743']]\n"
     ]
    }
   ],
   "source": [
    "TI = np.matrix([['Ixx', 'Ixy', 'Ixz'], ['Iyx', 'Iyy', 'Iyz'], ['Izx', 'Izy', 'Izz']])\n",
    "print(TI)\n",
    "TensorInercia = np.matrix([[np.format_float_positional(Ixx, trim='-'), np.format_float_positional(-Ixy, trim='-'), np.format_float_positional(-Ixz, trim='-')], [np.format_float_positional(-Iyx, trim='-'), np.format_float_positional(Iyy, trim='-'), np.format_float_positional(-Iyz, trim='-')], [np.format_float_positional(-Izx, trim='-'), np.format_float_positional(-Izy, trim='-'), np.format_float_positional(Izz, trim='-')]])\n",
    "print(TensorInercia)\n",
    "TensorInercia = np.matrix([[np.format_float_positional(Ixx, trim='-'), np.format_float_positional(-Ixy, trim='-'), np.format_float_positional(-Ixz, trim='-')], [np.format_float_positional(-Iyx, trim='-'), np.format_float_positional(Iyy, trim='-'), np.format_float_positional(-Iyz, trim='-')], [np.format_float_positional(-Izx, trim='-'), np.format_float_positional(-Izy, trim='-'), np.format_float_positional(Izz, trim='-')]], dtype=float)\n"
   ]
  },
  {
   "cell_type": "code",
   "execution_count": 18,
   "metadata": {},
   "outputs": [
    {
     "name": "stdout",
     "output_type": "stream",
     "text": [
      "[1.52996521e+08 7.92289755e+09 7.87110229e+09]\n",
      "[[-0.72315583 -0.68914397 -0.04611112]\n",
      " [-0.69061685  0.72240857  0.03426699]\n",
      " [-0.00969618 -0.05662549  0.9983484 ]]\n"
     ]
    }
   ],
   "source": [
    "eigenvalores, eigenvectores = np.linalg.eig(TensorInercia)\n",
    "print(eigenvalores)\n",
    "print(eigenvectores)"
   ]
  },
  {
   "cell_type": "code",
   "execution_count": 19,
   "metadata": {},
   "outputs": [
    {
     "data": {
      "text/plain": [
       "0.9999999994705748"
      ]
     },
     "execution_count": 19,
     "metadata": {},
     "output_type": "execute_result"
    }
   ],
   "source": [
    "#np.dot([8.04932981e-01, -4.19572935e-01, -4.19572935e-01] , [,] , [,])\n",
    "np.dot([8.04932981e-01, -4.19572935e-01, -4.19572935e-01] , [8.04932981e-01, -4.19572935e-01, -4.19572935e-01])\n"
   ]
  },
  {
   "cell_type": "code",
   "execution_count": 20,
   "metadata": {},
   "outputs": [
    {
     "data": {
      "text/plain": [
       "matrix([[-0.72315583, -0.69061685, -0.00969618],\n",
       "        [-0.68914397,  0.72240857, -0.05662549],\n",
       "        [-0.04611112,  0.03426699,  0.9983484 ]])"
      ]
     },
     "execution_count": 20,
     "metadata": {},
     "output_type": "execute_result"
    }
   ],
   "source": [
    "eigenvectores_inv = np.linalg.inv(eigenvectores)\n",
    "eigenvectores_inv"
   ]
  },
  {
   "cell_type": "code",
   "execution_count": 21,
   "metadata": {},
   "outputs": [
    {
     "data": {
      "text/plain": [
       "matrix([[ 1.52996521e+08,  7.37108084e-07,  8.17825193e-08],\n",
       "        [-9.42013844e-07,  7.92289755e+09,  9.74206967e-08],\n",
       "        [-7.46617128e-08,  8.43064059e-08,  7.87110229e+09]])"
      ]
     },
     "execution_count": 21,
     "metadata": {},
     "output_type": "execute_result"
    }
   ],
   "source": [
    "diagonalmatrix = np.matmul(eigenvectores_inv, (np.matmul(TensorInercia, eigenvectores)))\n",
    "diagonalmatrix"
   ]
  },
  {
   "cell_type": "code",
   "execution_count": 22,
   "metadata": {},
   "outputs": [
    {
     "data": {
      "text/plain": [
       "matrix([[ 3.85948384e+09, -3.88039010e+09, -5.20969800e+07],\n",
       "        [-3.88039010e+09,  4.21696978e+09, -5.38018760e+07],\n",
       "        [-5.20969800e+07, -5.38018760e+07,  7.87054274e+09]])"
      ]
     },
     "execution_count": 22,
     "metadata": {},
     "output_type": "execute_result"
    }
   ],
   "source": [
    "np.matmul(eigenvectores, (np.matmul(diagonalmatrix, eigenvectores_inv)))"
   ]
  },
  {
   "cell_type": "code",
   "execution_count": null,
   "metadata": {},
   "outputs": [],
   "source": []
  }
 ],
 "metadata": {
  "kernelspec": {
   "display_name": "Python 3",
   "language": "python",
   "name": "python3"
  },
  "language_info": {
   "codemirror_mode": {
    "name": "ipython",
    "version": 3
   },
   "file_extension": ".py",
   "mimetype": "text/x-python",
   "name": "python",
   "nbconvert_exporter": "python",
   "pygments_lexer": "ipython3",
   "version": "3.7.6"
  }
 },
 "nbformat": 4,
 "nbformat_minor": 4
}
