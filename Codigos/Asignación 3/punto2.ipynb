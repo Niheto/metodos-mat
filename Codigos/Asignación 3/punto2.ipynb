{
 "cells": [
  {
   "cell_type": "markdown",
   "metadata": {},
   "source": [
    "# Métodos matemátidos para físicos I"
   ]
  },
  {
   "cell_type": "markdown",
   "metadata": {},
   "source": [
    "## Tensores, autovectores y autovalores"
   ]
  },
  {
   "cell_type": "markdown",
   "metadata": {},
   "source": [
    "Autores:\n",
    "- Nicolás Toledo Parra, 2200017\n",
    "- Gabriela Sánchez Ariza, 22000816"
   ]
  },
  {
   "cell_type": "code",
   "execution_count": 1,
   "metadata": {},
   "outputs": [],
   "source": [
    "import pandas as pd\n",
    "import numpy as np\n",
    "import matplotlib.pyplot as plt\n",
    "import seaborn as sn"
   ]
  },
  {
   "cell_type": "markdown",
   "metadata": {},
   "source": [
    "Lectura de datos:"
   ]
  },
  {
   "cell_type": "code",
   "execution_count": 2,
   "metadata": {},
   "outputs": [
    {
     "data": {
      "text/html": [
       "<div>\n",
       "<style scoped>\n",
       "    .dataframe tbody tr th:only-of-type {\n",
       "        vertical-align: middle;\n",
       "    }\n",
       "\n",
       "    .dataframe tbody tr th {\n",
       "        vertical-align: top;\n",
       "    }\n",
       "\n",
       "    .dataframe thead th {\n",
       "        text-align: right;\n",
       "    }\n",
       "</style>\n",
       "<table border=\"1\" class=\"dataframe\">\n",
       "  <thead>\n",
       "    <tr style=\"text-align: right;\">\n",
       "      <th></th>\n",
       "      <th>Ciencia y tecnología</th>\n",
       "      <th>Salud</th>\n",
       "      <th>Defensa</th>\n",
       "      <th>Educación</th>\n",
       "    </tr>\n",
       "  </thead>\n",
       "  <tbody>\n",
       "    <tr>\n",
       "      <th>0</th>\n",
       "      <td>0.15353</td>\n",
       "      <td>5.798928</td>\n",
       "      <td>3.465015</td>\n",
       "      <td>4.07935</td>\n",
       "    </tr>\n",
       "    <tr>\n",
       "      <th>1</th>\n",
       "      <td>0.15086</td>\n",
       "      <td>6.067098</td>\n",
       "      <td>3.352873</td>\n",
       "      <td>4.02099</td>\n",
       "    </tr>\n",
       "    <tr>\n",
       "      <th>2</th>\n",
       "      <td>0.14950</td>\n",
       "      <td>6.335515</td>\n",
       "      <td>3.276131</td>\n",
       "      <td>3.91672</td>\n",
       "    </tr>\n",
       "    <tr>\n",
       "      <th>3</th>\n",
       "      <td>0.18455</td>\n",
       "      <td>6.491028</td>\n",
       "      <td>3.266740</td>\n",
       "      <td>4.08301</td>\n",
       "    </tr>\n",
       "    <tr>\n",
       "      <th>4</th>\n",
       "      <td>0.20125</td>\n",
       "      <td>6.841927</td>\n",
       "      <td>3.744606</td>\n",
       "      <td>3.93878</td>\n",
       "    </tr>\n",
       "    <tr>\n",
       "      <th>5</th>\n",
       "      <td>0.19608</td>\n",
       "      <td>7.311347</td>\n",
       "      <td>3.885354</td>\n",
       "      <td>4.77652</td>\n",
       "    </tr>\n",
       "    <tr>\n",
       "      <th>6</th>\n",
       "      <td>0.19501</td>\n",
       "      <td>7.071301</td>\n",
       "      <td>3.642756</td>\n",
       "      <td>4.83383</td>\n",
       "    </tr>\n",
       "    <tr>\n",
       "      <th>7</th>\n",
       "      <td>0.20595</td>\n",
       "      <td>6.780768</td>\n",
       "      <td>3.081614</td>\n",
       "      <td>4.46608</td>\n",
       "    </tr>\n",
       "    <tr>\n",
       "      <th>8</th>\n",
       "      <td>0.23378</td>\n",
       "      <td>6.745996</td>\n",
       "      <td>3.158960</td>\n",
       "      <td>4.37039</td>\n",
       "    </tr>\n",
       "    <tr>\n",
       "      <th>9</th>\n",
       "      <td>0.27111</td>\n",
       "      <td>7.017241</td>\n",
       "      <td>3.274401</td>\n",
       "      <td>4.87855</td>\n",
       "    </tr>\n",
       "    <tr>\n",
       "      <th>10</th>\n",
       "      <td>0.30563</td>\n",
       "      <td>7.185532</td>\n",
       "      <td>3.108259</td>\n",
       "      <td>4.62946</td>\n",
       "    </tr>\n",
       "    <tr>\n",
       "      <th>11</th>\n",
       "      <td>0.28975</td>\n",
       "      <td>7.523386</td>\n",
       "      <td>3.109960</td>\n",
       "      <td>4.47039</td>\n",
       "    </tr>\n",
       "    <tr>\n",
       "      <th>12</th>\n",
       "      <td>0.26694</td>\n",
       "      <td>7.531170</td>\n",
       "      <td>3.071131</td>\n",
       "      <td>4.47721</td>\n",
       "    </tr>\n",
       "    <tr>\n",
       "      <th>13</th>\n",
       "      <td>0.24286</td>\n",
       "      <td>7.678643</td>\n",
       "      <td>3.209062</td>\n",
       "      <td>4.53551</td>\n",
       "    </tr>\n",
       "    <tr>\n",
       "      <th>14</th>\n",
       "      <td>0.23462</td>\n",
       "      <td>7.639800</td>\n",
       "      <td>3.062106</td>\n",
       "      <td>4.44910</td>\n",
       "    </tr>\n",
       "  </tbody>\n",
       "</table>\n",
       "</div>"
      ],
      "text/plain": [
       "    Ciencia y tecnología     Salud   Defensa  Educación\n",
       "0                0.15353  5.798928  3.465015    4.07935\n",
       "1                0.15086  6.067098  3.352873    4.02099\n",
       "2                0.14950  6.335515  3.276131    3.91672\n",
       "3                0.18455  6.491028  3.266740    4.08301\n",
       "4                0.20125  6.841927  3.744606    3.93878\n",
       "5                0.19608  7.311347  3.885354    4.77652\n",
       "6                0.19501  7.071301  3.642756    4.83383\n",
       "7                0.20595  6.780768  3.081614    4.46608\n",
       "8                0.23378  6.745996  3.158960    4.37039\n",
       "9                0.27111  7.017241  3.274401    4.87855\n",
       "10               0.30563  7.185532  3.108259    4.62946\n",
       "11               0.28975  7.523386  3.109960    4.47039\n",
       "12               0.26694  7.531170  3.071131    4.47721\n",
       "13               0.24286  7.678643  3.209062    4.53551\n",
       "14               0.23462  7.639800  3.062106    4.44910"
      ]
     },
     "execution_count": 2,
     "metadata": {},
     "output_type": "execute_result"
    }
   ],
   "source": [
    "datos = pd.read_excel('datosbancomundial.xlsx')\n",
    "datos = datos.drop(\"Año\", 1)\n",
    "datos"
   ]
  },
  {
   "cell_type": "code",
   "execution_count": 3,
   "metadata": {},
   "outputs": [],
   "source": [
    "ciencia = datos['Ciencia y tecnología'].to_list()\n",
    "salud = datos['Salud'].to_list()\n",
    "defensa = datos['Defensa'].to_list()\n",
    "educacion = datos['Educación'].to_list()\n",
    "\n",
    "data = np.array([ciencia,salud,defensa,educacion])"
   ]
  },
  {
   "cell_type": "markdown",
   "metadata": {},
   "source": [
    "### a) Matriz de covarianza y matriz de correlación:"
   ]
  },
  {
   "cell_type": "code",
   "execution_count": 4,
   "metadata": {
    "scrolled": false
   },
   "outputs": [
    {
     "data": {
      "image/png": "[encoded data removed]",
      "text/plain": [
       "<Figure size 864x432 with 2 Axes>"
      ]
     },
     "metadata": {
      "needs_background": "light"
     },
     "output_type": "display_data"
    }
   ],
   "source": [
    "plt.figure(figsize=(12,6))\n",
    "cov_matrix = np.cov(data, bias=True)\n",
    "sn.heatmap(cov_matrix, annot=True, fmt='f', cmap=\"tab20\")\n",
    "plt.show()"
   ]
  },
  {
   "cell_type": "code",
   "execution_count": 5,
   "metadata": {},
   "outputs": [
    {
     "data": {
      "text/html": [
       "<div>\n",
       "<style scoped>\n",
       "    .dataframe tbody tr th:only-of-type {\n",
       "        vertical-align: middle;\n",
       "    }\n",
       "\n",
       "    .dataframe tbody tr th {\n",
       "        vertical-align: top;\n",
       "    }\n",
       "\n",
       "    .dataframe thead th {\n",
       "        text-align: right;\n",
       "    }\n",
       "</style>\n",
       "<table border=\"1\" class=\"dataframe\">\n",
       "  <thead>\n",
       "    <tr style=\"text-align: right;\">\n",
       "      <th></th>\n",
       "      <th>Ciencia y tecnología</th>\n",
       "      <th>Salud</th>\n",
       "      <th>Defensa</th>\n",
       "      <th>Educación</th>\n",
       "    </tr>\n",
       "  </thead>\n",
       "  <tbody>\n",
       "    <tr>\n",
       "      <th>Ciencia y tecnología</th>\n",
       "      <td>1.000000</td>\n",
       "      <td>0.753629</td>\n",
       "      <td>-0.486384</td>\n",
       "      <td>0.607650</td>\n",
       "    </tr>\n",
       "    <tr>\n",
       "      <th>Salud</th>\n",
       "      <td>0.753629</td>\n",
       "      <td>1.000000</td>\n",
       "      <td>-0.215604</td>\n",
       "      <td>0.649893</td>\n",
       "    </tr>\n",
       "    <tr>\n",
       "      <th>Defensa</th>\n",
       "      <td>-0.486384</td>\n",
       "      <td>-0.215604</td>\n",
       "      <td>1.000000</td>\n",
       "      <td>-0.006307</td>\n",
       "    </tr>\n",
       "    <tr>\n",
       "      <th>Educación</th>\n",
       "      <td>0.607650</td>\n",
       "      <td>0.649893</td>\n",
       "      <td>-0.006307</td>\n",
       "      <td>1.000000</td>\n",
       "    </tr>\n",
       "  </tbody>\n",
       "</table>\n",
       "</div>"
      ],
      "text/plain": [
       "                      Ciencia y tecnología     Salud   Defensa  Educación\n",
       "Ciencia y tecnología              1.000000  0.753629 -0.486384   0.607650\n",
       "Salud                             0.753629  1.000000 -0.215604   0.649893\n",
       "Defensa                          -0.486384 -0.215604  1.000000  -0.006307\n",
       "Educación                         0.607650  0.649893 -0.006307   1.000000"
      ]
     },
     "execution_count": 5,
     "metadata": {},
     "output_type": "execute_result"
    }
   ],
   "source": [
    "matr = datos.corr()\n",
    "matr"
   ]
  },
  {
   "cell_type": "markdown",
   "metadata": {},
   "source": [
    "### b y c):"
   ]
  },
  {
   "cell_type": "code",
   "execution_count": 6,
   "metadata": {},
   "outputs": [
    {
     "name": "stdout",
     "output_type": "stream",
     "text": [
      "[[ 0.00233917  0.02029339 -0.00590431  0.00911038]\n",
      " [ 0.02029339  0.30997901 -0.03012887  0.11216563]\n",
      " [-0.00590431 -0.03012887  0.06299668 -0.00049069]\n",
      " [ 0.00911038  0.11216563 -0.00049069  0.09609571]]\n"
     ]
    }
   ],
   "source": [
    "print(cov_matrix)"
   ]
  },
  {
   "cell_type": "code",
   "execution_count": 7,
   "metadata": {},
   "outputs": [
    {
     "name": "stdout",
     "output_type": "stream",
     "text": [
      "[0.36206251 0.0006357  0.06728233 0.04143003]\n",
      "[[-0.06297087 -0.99534989  0.04550954  0.05693992]\n",
      " [-0.91465725  0.04146357  0.12102433 -0.38345273]\n",
      " [ 0.09402548 -0.07384556 -0.85626105 -0.50251671]\n",
      " [-0.388067    0.04589344 -0.50009899  0.77278639]]\n"
     ]
    }
   ],
   "source": [
    "eigenvalores, matriztransf = np.linalg.eig(cov_matrix)\n",
    "print(eigenvalores)\n",
    "print(matriztransf)"
   ]
  },
  {
   "cell_type": "code",
   "execution_count": 8,
   "metadata": {},
   "outputs": [
    {
     "data": {
      "text/plain": [
       "array([[-0.06297087, -0.91465725,  0.09402548, -0.388067  ],\n",
       "       [-0.99534989,  0.04146357, -0.07384556,  0.04589344],\n",
       "       [ 0.04550954,  0.12102433, -0.85626105, -0.50009899],\n",
       "       [ 0.05693992, -0.38345273, -0.50251671,  0.77278639]])"
      ]
     },
     "execution_count": 8,
     "metadata": {},
     "output_type": "execute_result"
    }
   ],
   "source": [
    "matriztransf_inv = np.linalg.inv(matriztransf) #Punto C matriz transformación\n",
    "matriztransf_inv"
   ]
  },
  {
   "cell_type": "code",
   "execution_count": 9,
   "metadata": {},
   "outputs": [
    {
     "name": "stdout",
     "output_type": "stream",
     "text": [
      "[[ 3.62062509e-01  1.64663205e-18 -6.93889390e-18 -3.55618313e-17]\n",
      " [ 2.04697370e-16  6.35698000e-04 -3.68628739e-18 -2.81892565e-18]\n",
      " [ 3.46944695e-17 -1.76521666e-18  6.72823313e-02 -1.73472348e-17]\n",
      " [-9.02056208e-17  5.40407020e-18  3.46944695e-18  4.14300327e-02]]\n"
     ]
    }
   ],
   "source": [
    "diagonalmatrix = np.matmul(matriztransf_inv, (np.matmul(cov_matrix, matriztransf)))\n",
    "print(diagonalmatrix)"
   ]
  },
  {
   "cell_type": "code",
   "execution_count": 10,
   "metadata": {},
   "outputs": [
    {
     "data": {
      "text/plain": [
       "array([[ 0.00233917,  0.02029339, -0.00590431,  0.00911038],\n",
       "       [ 0.02029339,  0.30997901, -0.03012887,  0.11216563],\n",
       "       [-0.00590431, -0.03012887,  0.06299668, -0.00049069],\n",
       "       [ 0.00911038,  0.11216563, -0.00049069,  0.09609571]])"
      ]
     },
     "execution_count": 10,
     "metadata": {},
     "output_type": "execute_result"
    }
   ],
   "source": [
    "np.matmul(matriztransf, (np.matmul(diagonalmatrix, matriztransf_inv)))"
   ]
  }
 ],
 "metadata": {
  "kernelspec": {
   "display_name": "Python 3",
   "language": "python",
   "name": "python3"
  },
  "language_info": {
   "codemirror_mode": {
    "name": "ipython",
    "version": 3
   },
   "file_extension": ".py",
   "mimetype": "text/x-python",
   "name": "python",
   "nbconvert_exporter": "python",
   "pygments_lexer": "ipython3",
   "version": "3.7.6"
  }
 },
 "nbformat": 4,
 "nbformat_minor": 4
}
